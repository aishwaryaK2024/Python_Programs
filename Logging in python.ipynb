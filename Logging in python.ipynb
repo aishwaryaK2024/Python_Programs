{
 "cells": [
  {
   "cell_type": "code",
   "execution_count": 1,
   "id": "5ef4831d-70a8-41b1-8c1e-5608a15f21da",
   "metadata": {},
   "outputs": [],
   "source": [
    "import logging"
   ]
  },
  {
   "cell_type": "code",
   "execution_count": 3,
   "id": "2fa73a1b-6f50-4dd3-bcf9-b1170543db05",
   "metadata": {},
   "outputs": [],
   "source": [
    "logging.basicConfig(filename = \"test.log\",level = logging.INFO)"
   ]
  },
  {
   "cell_type": "code",
   "execution_count": 4,
   "id": "542740db-b228-4c8a-9844-baf2621963bf",
   "metadata": {},
   "outputs": [],
   "source": [
    "logging.info(\"log this line of executoion\")"
   ]
  },
  {
   "cell_type": "code",
   "execution_count": 5,
   "id": "a046ceed-2481-4b72-a8ce-470dd6a67a18",
   "metadata": {},
   "outputs": [],
   "source": [
    "logging.info(\"this is my print\")"
   ]
  },
  {
   "cell_type": "code",
   "execution_count": 6,
   "id": "69743bae-f3aa-471e-8580-3cd6653fb771",
   "metadata": {},
   "outputs": [],
   "source": [
    "logging.debug(\"this is my msg\")"
   ]
  },
  {
   "cell_type": "code",
   "execution_count": 7,
   "id": "f91d1c14-a91a-4cee-9baf-98766bafe54b",
   "metadata": {},
   "outputs": [],
   "source": [
    "logging.warning(\"Tbis i my warning msg\")"
   ]
  },
  {
   "cell_type": "code",
   "execution_count": 8,
   "id": "a7512791-0a7f-4dad-b1e7-0478e8a1c835",
   "metadata": {},
   "outputs": [],
   "source": [
    "logging.error(\"This is my Error\")"
   ]
  },
  {
   "cell_type": "code",
   "execution_count": 21,
   "id": "e1cf1c95-e0f9-499a-a622-b36864a8ddad",
   "metadata": {},
   "outputs": [],
   "source": [
    "logging.critical(\"This is my critical\")\n",
    "logging.shutdown()"
   ]
  },
  {
   "cell_type": "code",
   "execution_count": 2,
   "id": "ef1e52b5-69c1-4741-af14-b3848f48f678",
   "metadata": {},
   "outputs": [],
   "source": [
    "import logging \n",
    "logging.basicConfig(filename = \"te4.log\",level = logging.DEBUG,format = '%(asctime)s %(message)s')"
   ]
  },
  {
   "cell_type": "code",
   "execution_count": 3,
   "id": "dbd1ba64-dc03-4d4f-8e12-52d5704ab104",
   "metadata": {},
   "outputs": [],
   "source": [
    "logging.info(\"This is my info\")\n",
    "logging.error(\"this is my error\")\n",
    "logging.critical(\"this is critical\")\n"
   ]
  },
  {
   "cell_type": "code",
   "execution_count": 4,
   "id": "4fab01ed-4619-4ac1-a863-7f3b15b5a6d0",
   "metadata": {},
   "outputs": [],
   "source": [
    "logging.shutdown()"
   ]
  },
  {
   "cell_type": "code",
   "execution_count": 3,
   "id": "9da81df3-1b53-4a10-baa7-b7bed8a6c7d9",
   "metadata": {},
   "outputs": [],
   "source": [
    "logging.basicConfig(filename = \"test7.log\",level = logging.DEBUG,format = '%(asctime)s %(name)s %(levelname)s %(message)s')"
   ]
  },
  {
   "cell_type": "code",
   "execution_count": 4,
   "id": "a5814191-420b-469a-a161-0c58917674b8",
   "metadata": {},
   "outputs": [],
   "source": [
    "logging.info(\"This is my info\")\n",
    "logging.error(\"this is my error\")\n",
    "logging.critical(\"this is critical\")\n"
   ]
  },
  {
   "cell_type": "code",
   "execution_count": 5,
   "id": "b329764d-9dab-4c7b-88e8-5118f70695fe",
   "metadata": {},
   "outputs": [],
   "source": [
    "l = [1,2,3,4,32,[2,3,4],\"sudh\",\"kumar\"]"
   ]
  },
  {
   "cell_type": "code",
   "execution_count": 9,
   "id": "499db695-5a65-408f-915d-0f7ae855a548",
   "metadata": {},
   "outputs": [],
   "source": [
    "l1_int = []\n",
    "l2_str = []\n",
    "\n",
    "def diff(l):\n",
    "    for i in l:\n",
    "        logging.info(\"we are iterating our list and our local variable is i \" + str(l))\n",
    "        if type(i) is list:\n",
    "            logging.info(\"i am inside if statement and i am trying to check list type\")\n",
    "            diff(i)\n",
    "        if type(i) is int:\n",
    "            logging.info(\"i am inside if statement\")\n",
    "            l1_int.append(i)\n",
    "        elif type(i) is str:\n",
    "            l2_str.append(i)"
   ]
  },
  {
   "cell_type": "code",
   "execution_count": 10,
   "id": "43483758-3c61-4e10-a475-910236e098b2",
   "metadata": {},
   "outputs": [],
   "source": [
    "diff(l)"
   ]
  },
  {
   "cell_type": "code",
   "execution_count": 12,
   "id": "82a16be4-f06e-4e42-9def-b582fca833bf",
   "metadata": {},
   "outputs": [
    {
     "data": {
      "text/plain": [
       "[1, 2, 3, 4, 32, 2, 3, 4]"
      ]
     },
     "execution_count": 12,
     "metadata": {},
     "output_type": "execute_result"
    }
   ],
   "source": [
    "l1_int"
   ]
  },
  {
   "cell_type": "code",
   "execution_count": 14,
   "id": "a9e14bea-8c11-4e98-98e8-4e565ece40ca",
   "metadata": {},
   "outputs": [
    {
     "data": {
      "text/plain": [
       "['sudh', 'kumar']"
      ]
     },
     "execution_count": 14,
     "metadata": {},
     "output_type": "execute_result"
    }
   ],
   "source": [
    "l2_str"
   ]
  },
  {
   "cell_type": "code",
   "execution_count": null,
   "id": "ae673a02-4141-4456-a288-95bdeeb28d65",
   "metadata": {},
   "outputs": [],
   "source": []
  }
 ],
 "metadata": {
  "kernelspec": {
   "display_name": "Python 3 (ipykernel)",
   "language": "python",
   "name": "python3"
  },
  "language_info": {
   "codemirror_mode": {
    "name": "ipython",
    "version": 3
   },
   "file_extension": ".py",
   "mimetype": "text/x-python",
   "name": "python",
   "nbconvert_exporter": "python",
   "pygments_lexer": "ipython3",
   "version": "3.10.8"
  }
 },
 "nbformat": 4,
 "nbformat_minor": 5
}
