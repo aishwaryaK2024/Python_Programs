{
 "cells": [
  {
   "cell_type": "code",
   "execution_count": 1,
   "id": "0bcfff46-f9d2-493a-bb61-0085f8e56e16",
   "metadata": {},
   "outputs": [],
   "source": [
    "class test :\n",
    "    pass"
   ]
  },
  {
   "cell_type": "code",
   "execution_count": 2,
   "id": "d1f464e6-1a67-425e-bf6f-9ee818ccd197",
   "metadata": {},
   "outputs": [],
   "source": [
    "a = test()"
   ]
  },
  {
   "cell_type": "code",
   "execution_count": 3,
   "id": "75cae3e2-7e03-4e25-9549-fd10e3d9de3f",
   "metadata": {},
   "outputs": [
    {
     "name": "stdout",
     "output_type": "stream",
     "text": [
      "<class '__main__.test'>\n"
     ]
    }
   ],
   "source": [
    "print(type(a))"
   ]
  },
  {
   "cell_type": "code",
   "execution_count": 7,
   "id": "7a0f3bfa-fed9-426f-9ff1-90dffa5d847c",
   "metadata": {},
   "outputs": [],
   "source": [
    "class pwskills : \n",
    "    \n",
    "    def welcome_msg(self):\n",
    "        print(\"Wellcome to pwskills\")"
   ]
  },
  {
   "cell_type": "code",
   "execution_count": 8,
   "id": "53b22fa8-a12f-4b65-ba17-a15514bbddd5",
   "metadata": {},
   "outputs": [],
   "source": [
    "aish = pwskills()"
   ]
  },
  {
   "cell_type": "code",
   "execution_count": 9,
   "id": "beaf0961-710a-40d8-bb3e-6f5feab6f1c7",
   "metadata": {},
   "outputs": [
    {
     "name": "stdout",
     "output_type": "stream",
     "text": [
      "Wellcome to pwskills\n"
     ]
    }
   ],
   "source": [
    "aish.welcome_msg()"
   ]
  },
  {
   "cell_type": "code",
   "execution_count": 2,
   "id": "330cb376-394a-4df4-89cc-2b79274c07e6",
   "metadata": {},
   "outputs": [],
   "source": [
    "class pwskills1 : \n",
    "    \n",
    "    def __init__(self,phone_number,email_id,student_id):\n",
    "        self.phone_number = phone_number\n",
    "        self.email_id = email_id\n",
    "        self.student_id = student_id\n",
    "        \n",
    "    def return_student_details(self):\n",
    "        return self.student_id,self.phone_number,self.email_id"
   ]
  },
  {
   "cell_type": "code",
   "execution_count": 5,
   "id": "ba844b18-a2ca-43bf-ac62-060c6231913c",
   "metadata": {},
   "outputs": [],
   "source": [
    "aish = pwskills1(98753422345,\"aaakj@mail.com\",\"aish\")"
   ]
  },
  {
   "cell_type": "code",
   "execution_count": 6,
   "id": "1b95e3b7-b461-401e-9c05-62bcc5dcdddc",
   "metadata": {},
   "outputs": [
    {
     "data": {
      "text/plain": [
       "('aish', 98753422345, 'aaakj@mail.com')"
      ]
     },
     "execution_count": 6,
     "metadata": {},
     "output_type": "execute_result"
    }
   ],
   "source": [
    "aish.return_student_details()"
   ]
  },
  {
   "cell_type": "code",
   "execution_count": 7,
   "id": "89fa41cd-2abf-4243-a2cc-dd1db6784b14",
   "metadata": {},
   "outputs": [
    {
     "data": {
      "text/plain": [
       "98753422345"
      ]
     },
     "execution_count": 7,
     "metadata": {},
     "output_type": "execute_result"
    }
   ],
   "source": [
    "aish.phone_number"
   ]
  },
  {
   "cell_type": "code",
   "execution_count": null,
   "id": "52db70c0-a799-41db-9c38-d562c26515c4",
   "metadata": {},
   "outputs": [],
   "source": []
  }
 ],
 "metadata": {
  "kernelspec": {
   "display_name": "Python 3 (ipykernel)",
   "language": "python",
   "name": "python3"
  },
  "language_info": {
   "codemirror_mode": {
    "name": "ipython",
    "version": 3
   },
   "file_extension": ".py",
   "mimetype": "text/x-python",
   "name": "python",
   "nbconvert_exporter": "python",
   "pygments_lexer": "ipython3",
   "version": "3.10.8"
  }
 },
 "nbformat": 4,
 "nbformat_minor": 5
}
