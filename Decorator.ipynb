{
 "cells": [
  {
   "cell_type": "code",
   "execution_count": 1,
   "id": "7f165f87-9481-4f5f-a40c-96c54585ee60",
   "metadata": {},
   "outputs": [],
   "source": [
    "def test():\n",
    "    print(\"this is start of fun\")\n",
    "    print(\"This is my function to test\")\n",
    "    print(4+5)\n",
    "    print(\"this is end of my fun\")"
   ]
  },
  {
   "cell_type": "code",
   "execution_count": 2,
   "id": "640754fc-2bc0-4039-81a9-51d0d745c56f",
   "metadata": {},
   "outputs": [
    {
     "name": "stdout",
     "output_type": "stream",
     "text": [
      "this is start of fun\n",
      "This is my function to test\n",
      "9\n",
      "this is end of my fun\n"
     ]
    }
   ],
   "source": [
    "test()"
   ]
  },
  {
   "cell_type": "code",
   "execution_count": 3,
   "id": "05feb120-a972-4172-aaf9-f0dc4c75d83d",
   "metadata": {},
   "outputs": [],
   "source": [
    "def deco(fun):\n",
    "    def inner_deco():\n",
    "        print(\"this is start of my fun\")\n",
    "        fun()\n",
    "        print(\"this is end of my fun\")\n",
    "       \n",
    "    return inner_deco"
   ]
  },
  {
   "cell_type": "code",
   "execution_count": 6,
   "id": "85a22dc4-9062-4e66-beaa-df72d8cf43b3",
   "metadata": {},
   "outputs": [],
   "source": [
    "@deco\n",
    "def test():\n",
    "    print(6+6)"
   ]
  },
  {
   "cell_type": "code",
   "execution_count": 7,
   "id": "16edf6e6-43b8-4bdc-9a54-8e0a8e9c84c2",
   "metadata": {},
   "outputs": [
    {
     "name": "stdout",
     "output_type": "stream",
     "text": [
      "this is start of my fun\n",
      "12\n",
      "this is end of my fun\n"
     ]
    }
   ],
   "source": [
    "test()"
   ]
  },
  {
   "cell_type": "code",
   "execution_count": 1,
   "id": "0f47743c-234d-46a3-a94d-eaf747d6ab58",
   "metadata": {},
   "outputs": [],
   "source": [
    "import time\n",
    "\n",
    "def timer_test(fun):\n",
    "    def timer_test_inner():\n",
    "        start = time.time()\n",
    "        fun()\n",
    "        end = time.time()\n",
    "        print(end - start)\n",
    "    return timer_test_inner "
   ]
  },
  {
   "cell_type": "code",
   "execution_count": 2,
   "id": "03e02172-76fd-4af4-90a3-981f05263961",
   "metadata": {},
   "outputs": [],
   "source": [
    "@timer_test\n",
    "def test():\n",
    "    print(34 + 67)"
   ]
  },
  {
   "cell_type": "code",
   "execution_count": 3,
   "id": "c2619afa-b258-4be6-8099-1e3b5fb88868",
   "metadata": {},
   "outputs": [
    {
     "name": "stdout",
     "output_type": "stream",
     "text": [
      "101\n",
      "5.793571472167969e-05\n"
     ]
    }
   ],
   "source": [
    "test()"
   ]
  },
  {
   "cell_type": "code",
   "execution_count": 4,
   "id": "3da3f931-ad4d-4bfc-87ec-7e9a557b625e",
   "metadata": {},
   "outputs": [],
   "source": [
    "@timer_test\n",
    "def test1():\n",
    "    for i in range(100000000):\n",
    "        pass"
   ]
  },
  {
   "cell_type": "code",
   "execution_count": 5,
   "id": "d02f68d3-8566-407c-8621-9ef71b51d1ef",
   "metadata": {},
   "outputs": [
    {
     "name": "stdout",
     "output_type": "stream",
     "text": [
      "2.530174493789673\n"
     ]
    }
   ],
   "source": [
    "test1()"
   ]
  },
  {
   "cell_type": "code",
   "execution_count": null,
   "id": "f0f7e167-2284-42fa-afee-ecc422f8ba32",
   "metadata": {},
   "outputs": [],
   "source": []
  }
 ],
 "metadata": {
  "kernelspec": {
   "display_name": "Python 3 (ipykernel)",
   "language": "python",
   "name": "python3"
  },
  "language_info": {
   "codemirror_mode": {
    "name": "ipython",
    "version": 3
   },
   "file_extension": ".py",
   "mimetype": "text/x-python",
   "name": "python",
   "nbconvert_exporter": "python",
   "pygments_lexer": "ipython3",
   "version": "3.10.8"
  }
 },
 "nbformat": 4,
 "nbformat_minor": 5
}
