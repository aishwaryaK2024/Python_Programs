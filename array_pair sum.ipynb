{
 "cells": [
  {
   "cell_type": "code",
   "execution_count": 22,
   "id": "49284eee-7c62-43db-ab0c-000f3063fa2f",
   "metadata": {},
   "outputs": [
    {
     "name": "stdout",
     "output_type": "stream",
     "text": [
      "Would Return 2 pairs:\n",
      "(1, 3)\n",
      "(2, 2)\n"
     ]
    }
   ],
   "source": [
    "l = [1,3,2,2]\n",
    "s = 4\n",
    "\n",
    "def pair_sum(l,s):\n",
    "    t = []\n",
    "    for i in range(len(l)):\n",
    "        for j in range(i+1,len(l)):\n",
    "            su = l[i] + l[j]\n",
    "            if su == s:\n",
    "                t.append((l[i],l[j]))\n",
    "                \n",
    "    print(f\"Would Return {len(t)} pairs:\")\n",
    "    for i in t:\n",
    "        print(i)\n",
    "            \n",
    "pair_sum(l,s)            "
   ]
  },
  {
   "cell_type": "code",
   "execution_count": 26,
   "id": "2291c6fe-d82a-4f02-a13f-a7718d6cc9ea",
   "metadata": {},
   "outputs": [],
   "source": [
    "def pair_sum1(arr,k):\n",
    "    \n",
    "    if len(arr) < 2:\n",
    "        return\n",
    "    seen = set()\n",
    "    output = set()\n",
    "    \n",
    "    for num in arr:\n",
    "        \n",
    "        target = k - num\n",
    "        \n",
    "        if target not in seen:\n",
    "            seen.add(num)\n",
    "        else:\n",
    "            output.add((min(target,num),max(target,num)))\n",
    "            \n",
    "    print(list(output))    "
   ]
  },
  {
   "cell_type": "code",
   "execution_count": 27,
   "id": "ff60d772-8e28-494b-b9b7-9c24bc6482eb",
   "metadata": {},
   "outputs": [
    {
     "name": "stdout",
     "output_type": "stream",
     "text": [
      "[(1, 3), (2, 2)]\n"
     ]
    }
   ],
   "source": [
    "l = [1,3,2,2]\n",
    "s = 4\n",
    "pair_sum1(l,s)"
   ]
  },
  {
   "cell_type": "code",
   "execution_count": null,
   "id": "e46d7aa8-9439-4308-a748-1813913a3ce6",
   "metadata": {},
   "outputs": [],
   "source": []
  }
 ],
 "metadata": {
  "kernelspec": {
   "display_name": "Python 3 (ipykernel)",
   "language": "python",
   "name": "python3"
  },
  "language_info": {
   "codemirror_mode": {
    "name": "ipython",
    "version": 3
   },
   "file_extension": ".py",
   "mimetype": "text/x-python",
   "name": "python",
   "nbconvert_exporter": "python",
   "pygments_lexer": "ipython3",
   "version": "3.10.8"
  }
 },
 "nbformat": 4,
 "nbformat_minor": 5
}
