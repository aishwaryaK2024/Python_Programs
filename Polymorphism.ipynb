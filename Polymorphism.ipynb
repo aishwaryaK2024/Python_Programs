{
 "cells": [
  {
   "cell_type": "code",
   "execution_count": 6,
   "id": "67be316b-48f9-45a0-9a9c-2a873310db5d",
   "metadata": {},
   "outputs": [],
   "source": [
    "class data_science:\n",
    "    \n",
    "    def syllabus(self):\n",
    "        print(\"This is my syllabus for data science\")"
   ]
  },
  {
   "cell_type": "code",
   "execution_count": 7,
   "id": "caae796b-7fe2-47d2-b3c9-5e1747956c5c",
   "metadata": {},
   "outputs": [],
   "source": [
    "class web_dev:\n",
    "    \n",
    "    def syllabus(self):\n",
    "        print(\"This is my web dev syllabus\")"
   ]
  },
  {
   "cell_type": "code",
   "execution_count": 8,
   "id": "a0cb3e01-c7bb-40da-9ac9-5b912f482864",
   "metadata": {},
   "outputs": [],
   "source": [
    "def class_parser(class_object):\n",
    "    for i in class_object:\n",
    "        i.syllabus()"
   ]
  },
  {
   "cell_type": "code",
   "execution_count": 9,
   "id": "7661a55e-3a92-4ba3-975f-2ca836478025",
   "metadata": {},
   "outputs": [],
   "source": [
    "data_science = data_science()\n",
    "web_dev = web_dev()\n",
    "class_objects = [data_science,web_dev]"
   ]
  },
  {
   "cell_type": "code",
   "execution_count": 10,
   "id": "f3fb889d-0ad6-4596-bfe0-7485827a231d",
   "metadata": {},
   "outputs": [
    {
     "name": "stdout",
     "output_type": "stream",
     "text": [
      "This is my syllabus for data science\n",
      "This is my web dev syllabus\n"
     ]
    }
   ],
   "source": [
    "class_parser(class_objects)"
   ]
  },
  {
   "cell_type": "code",
   "execution_count": null,
   "id": "1c996365-e0c9-45e5-9351-e4e5e6faf90f",
   "metadata": {},
   "outputs": [],
   "source": []
  }
 ],
 "metadata": {
  "kernelspec": {
   "display_name": "Python 3 (ipykernel)",
   "language": "python",
   "name": "python3"
  },
  "language_info": {
   "codemirror_mode": {
    "name": "ipython",
    "version": 3
   },
   "file_extension": ".py",
   "mimetype": "text/x-python",
   "name": "python",
   "nbconvert_exporter": "python",
   "pygments_lexer": "ipython3",
   "version": "3.10.8"
  }
 },
 "nbformat": 4,
 "nbformat_minor": 5
}
