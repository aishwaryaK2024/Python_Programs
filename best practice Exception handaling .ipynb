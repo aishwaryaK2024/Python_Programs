{
 "cells": [
  {
   "cell_type": "code",
   "execution_count": 1,
   "id": "323250a7-5d51-46dd-8572-ae3b0cf61f09",
   "metadata": {},
   "outputs": [
    {
     "name": "stdout",
     "output_type": "stream",
     "text": [
      "division by zero\n"
     ]
    }
   ],
   "source": [
    "try :\n",
    "    10/0 \n",
    "except Exception as e:\n",
    "    print(e)"
   ]
  },
  {
   "cell_type": "code",
   "execution_count": 3,
   "id": "55f7ede9-10a8-435f-b0b5-dea803a9eb86",
   "metadata": {},
   "outputs": [
    {
     "name": "stdout",
     "output_type": "stream",
     "text": [
      "division by zero\n"
     ]
    }
   ],
   "source": [
    "# use always a specific exception \n",
    "try :\n",
    "    10/0 \n",
    "except ZeroDivisionError as e:\n",
    "    print(e)"
   ]
  },
  {
   "cell_type": "code",
   "execution_count": 4,
   "id": "5f9a4fb2-0d9b-4eab-8fb2-a51af62787ea",
   "metadata": {},
   "outputs": [
    {
     "name": "stdout",
     "output_type": "stream",
     "text": [
      "I am trying to handle a zero division error :  division by zero\n"
     ]
    }
   ],
   "source": [
    "# print always a proper message\n",
    "try :\n",
    "    10/0 \n",
    "except ZeroDivisionError as e:\n",
    "    print(\"I am trying to handle a zero division error : \" ,e)"
   ]
  },
  {
   "cell_type": "code",
   "execution_count": 3,
   "id": "3e5edf8b-e3b7-473a-a1de-d5e06b4cf6bc",
   "metadata": {},
   "outputs": [],
   "source": [
    "# always try to log your error\n",
    "import logging \n",
    "logging.basicConfig(filename = \"error.log\",level = 1)\n",
    "\n",
    "try :\n",
    "    10/0 \n",
    "except ZeroDivisionError as e:\n",
    "    logging.info(\"I am trying to handle a zero division error :{} \".format(e))"
   ]
  },
  {
   "cell_type": "code",
   "execution_count": 1,
   "id": "e20cebf7-a6ef-435d-8232-3fa604069bd2",
   "metadata": {},
   "outputs": [],
   "source": [
    "# always try to avoid multiple exception handaling\n",
    "import logging \n",
    "logging.basicConfig(filename = \"error.log\",level = 1)\n",
    "\n",
    "try :\n",
    "    10/0 \n",
    "except FileNotFoundError as e:\n",
    "    logging.info(\"I am trying to handle aFile not found error :{} \".format(e))\n",
    "except AttributeError as e:\n",
    "    logging.info(\"I am trying to handle a attribute error :{} \".format(e))\n",
    "except ZeroDivisionError as e:\n",
    "    logging.info(\"I am trying to handle a zero division error :{} \".format(e))    "
   ]
  },
  {
   "cell_type": "code",
   "execution_count": 2,
   "id": "f7c68f4e-c15f-42d9-8461-4b215a329e9a",
   "metadata": {},
   "outputs": [],
   "source": [
    "# document all the error\n",
    "# cleanup all the resourses\n",
    "try :\n",
    "    with open(\"text.txt\",\"w\") as f:\n",
    "        f.write(\"this is my data to file\")\n",
    "except FileNotFoundError as e:\n",
    "    logging.error(\"i am handaling file not found error {}\".format(a))\n",
    "finally :\n",
    "    f.close()"
   ]
  },
  {
   "cell_type": "code",
   "execution_count": null,
   "id": "96b2671e-9b01-4e34-a541-76e2d9e5a6f9",
   "metadata": {},
   "outputs": [],
   "source": []
  }
 ],
 "metadata": {
  "kernelspec": {
   "display_name": "Python 3 (ipykernel)",
   "language": "python",
   "name": "python3"
  },
  "language_info": {
   "codemirror_mode": {
    "name": "ipython",
    "version": 3
   },
   "file_extension": ".py",
   "mimetype": "text/x-python",
   "name": "python",
   "nbconvert_exporter": "python",
   "pygments_lexer": "ipython3",
   "version": "3.10.8"
  }
 },
 "nbformat": 4,
 "nbformat_minor": 5
}
