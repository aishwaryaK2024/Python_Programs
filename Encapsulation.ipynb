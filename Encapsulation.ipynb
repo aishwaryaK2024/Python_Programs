{
 "cells": [
  {
   "cell_type": "code",
   "execution_count": 2,
   "id": "65f71d91-af79-4b8d-8a6b-cd2091846ea7",
   "metadata": {},
   "outputs": [],
   "source": [
    "class test:\n",
    "    \n",
    "    def __init__(self,a,b):\n",
    "        self.a = a\n",
    "        self.b = b"
   ]
  },
  {
   "cell_type": "code",
   "execution_count": 3,
   "id": "bf96a07a-d17e-4395-be2b-bc5fe4703402",
   "metadata": {},
   "outputs": [],
   "source": [
    "t = test(23,78)"
   ]
  },
  {
   "cell_type": "code",
   "execution_count": 4,
   "id": "73e58074-cc4c-4a7e-9327-c0d6f0e0fb50",
   "metadata": {},
   "outputs": [],
   "source": [
    "t.a = 65757"
   ]
  },
  {
   "cell_type": "code",
   "execution_count": 5,
   "id": "5bc2b1fa-e9fd-44eb-9014-a09090c8fb3e",
   "metadata": {},
   "outputs": [
    {
     "data": {
      "text/plain": [
       "65757"
      ]
     },
     "execution_count": 5,
     "metadata": {},
     "output_type": "execute_result"
    }
   ],
   "source": [
    "t.a"
   ]
  },
  {
   "cell_type": "code",
   "execution_count": 16,
   "id": "b3ac8640-871e-4644-a29f-9f80d5416a3c",
   "metadata": {},
   "outputs": [],
   "source": [
    "# __variable_name  to hide variable (encapsulation)\n",
    "class car:\n",
    "    \n",
    "    def __init__(self,year,make,model,speed):\n",
    "        \n",
    "        self.__year = year\n",
    "        self.__make = make\n",
    "        self.__model = model\n",
    "        self.__speed = speed\n",
    "    \n",
    "    def set_speed(self,speed):\n",
    "        self.__speed = 0 if speed < 0 else speed\n",
    "        \n",
    "       \n",
    "    def get_speed(self):\n",
    "        return self.__speed"
   ]
  },
  {
   "cell_type": "code",
   "execution_count": 17,
   "id": "43c528a4-43c4-4104-921a-653ce5f34c33",
   "metadata": {},
   "outputs": [],
   "source": [
    "c = car(2001,\"toyota\",\"innova\",12)"
   ]
  },
  {
   "cell_type": "code",
   "execution_count": 8,
   "id": "e559f7f0-95d4-4e2b-bd8a-2efaf0d8c6c4",
   "metadata": {},
   "outputs": [
    {
     "ename": "AttributeError",
     "evalue": "'car' object has no attribute 'year'",
     "output_type": "error",
     "traceback": [
      "\u001b[0;31m---------------------------------------------------------------------------\u001b[0m",
      "\u001b[0;31mAttributeError\u001b[0m                            Traceback (most recent call last)",
      "Cell \u001b[0;32mIn[8], line 1\u001b[0m\n\u001b[0;32m----> 1\u001b[0m \u001b[43mc\u001b[49m\u001b[38;5;241;43m.\u001b[39;49m\u001b[43myear\u001b[49m\n",
      "\u001b[0;31mAttributeError\u001b[0m: 'car' object has no attribute 'year'"
     ]
    }
   ],
   "source": [
    "c.year"
   ]
  },
  {
   "cell_type": "code",
   "execution_count": 9,
   "id": "81112ab9-836f-4d83-b35c-09b45edffc06",
   "metadata": {},
   "outputs": [
    {
     "ename": "AttributeError",
     "evalue": "'car' object has no attribute '__year'",
     "output_type": "error",
     "traceback": [
      "\u001b[0;31m---------------------------------------------------------------------------\u001b[0m",
      "\u001b[0;31mAttributeError\u001b[0m                            Traceback (most recent call last)",
      "Cell \u001b[0;32mIn[9], line 1\u001b[0m\n\u001b[0;32m----> 1\u001b[0m \u001b[43mc\u001b[49m\u001b[38;5;241;43m.\u001b[39;49m\u001b[43m__year\u001b[49m\n",
      "\u001b[0;31mAttributeError\u001b[0m: 'car' object has no attribute '__year'"
     ]
    }
   ],
   "source": [
    "c.__year"
   ]
  },
  {
   "cell_type": "code",
   "execution_count": 10,
   "id": "a4200f0e-e3e7-4ae6-b4e8-17bc0db8d07f",
   "metadata": {},
   "outputs": [
    {
     "data": {
      "text/plain": [
       "2001"
      ]
     },
     "execution_count": 10,
     "metadata": {},
     "output_type": "execute_result"
    }
   ],
   "source": [
    "c._car__year"
   ]
  },
  {
   "cell_type": "code",
   "execution_count": 20,
   "id": "05e236e7-7dfa-4712-9c70-30e1c01856fd",
   "metadata": {},
   "outputs": [],
   "source": [
    "c.set_speed(18)"
   ]
  },
  {
   "cell_type": "code",
   "execution_count": 21,
   "id": "f8d6f130-2c68-4350-973d-6e0b8a17eadf",
   "metadata": {},
   "outputs": [
    {
     "data": {
      "text/plain": [
       "18"
      ]
     },
     "execution_count": 21,
     "metadata": {},
     "output_type": "execute_result"
    }
   ],
   "source": [
    "c.get_speed()"
   ]
  },
  {
   "cell_type": "code",
   "execution_count": 22,
   "id": "630c7f49-c00c-457b-aeae-c411ef13a1da",
   "metadata": {},
   "outputs": [],
   "source": [
    "class bank_account :\n",
    "    def __init__(self,balance):\n",
    "        self.__balance = balance\n",
    "       \n",
    "    def deposite(self,amount):\n",
    "        self.__balance = self.__balance + amount\n",
    "       \n",
    "    def withdraw(self,amount):\n",
    "        if self.__balance >= amount:\n",
    "            self.balance = self.__balance - amount\n",
    "            return True\n",
    "        else :\n",
    "            return False\n",
    "       \n",
    "    def get_balance(self):\n",
    "        return self.__balance"
   ]
  },
  {
   "cell_type": "code",
   "execution_count": 23,
   "id": "2e344383-6c8d-442c-92ac-cee35eb84d89",
   "metadata": {},
   "outputs": [],
   "source": [
    "ba = bank_account(3000)"
   ]
  },
  {
   "cell_type": "code",
   "execution_count": 24,
   "id": "c9404da2-de63-4a1a-bb03-055f3ecafd97",
   "metadata": {},
   "outputs": [],
   "source": [
    "ba.deposite(900)"
   ]
  },
  {
   "cell_type": "code",
   "execution_count": 25,
   "id": "e9d060c5-30d9-4a79-9bf7-19cf09d09890",
   "metadata": {},
   "outputs": [
    {
     "data": {
      "text/plain": [
       "3900"
      ]
     },
     "execution_count": 25,
     "metadata": {},
     "output_type": "execute_result"
    }
   ],
   "source": [
    "ba.get_balance()"
   ]
  },
  {
   "cell_type": "code",
   "execution_count": 26,
   "id": "e1d0873d-2e68-4119-9c06-578251c05b83",
   "metadata": {},
   "outputs": [
    {
     "data": {
      "text/plain": [
       "True"
      ]
     },
     "execution_count": 26,
     "metadata": {},
     "output_type": "execute_result"
    }
   ],
   "source": [
    "ba.withdraw(400)"
   ]
  },
  {
   "cell_type": "code",
   "execution_count": 27,
   "id": "19f7a5d9-39d6-47c5-b379-c9976edf8ba3",
   "metadata": {},
   "outputs": [
    {
     "data": {
      "text/plain": [
       "3900"
      ]
     },
     "execution_count": 27,
     "metadata": {},
     "output_type": "execute_result"
    }
   ],
   "source": [
    "ba.get_balance()"
   ]
  },
  {
   "cell_type": "code",
   "execution_count": null,
   "id": "6b636f63-4e26-4a56-9d1a-e15d1e60fa50",
   "metadata": {},
   "outputs": [],
   "source": []
  }
 ],
 "metadata": {
  "kernelspec": {
   "display_name": "Python 3 (ipykernel)",
   "language": "python",
   "name": "python3"
  },
  "language_info": {
   "codemirror_mode": {
    "name": "ipython",
    "version": 3
   },
   "file_extension": ".py",
   "mimetype": "text/x-python",
   "name": "python",
   "nbconvert_exporter": "python",
   "pygments_lexer": "ipython3",
   "version": "3.10.8"
  }
 },
 "nbformat": 4,
 "nbformat_minor": 5
}
