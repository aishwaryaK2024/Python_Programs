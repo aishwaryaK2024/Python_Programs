{
 "cells": [
  {
   "cell_type": "code",
   "execution_count": 1,
   "id": "e02a542e-a096-47e2-b2ef-f47fd813260d",
   "metadata": {},
   "outputs": [
    {
     "name": "stdout",
     "output_type": "stream",
     "text": [
      "This is anagram \n"
     ]
    }
   ],
   "source": [
    "\n",
    "def anagram(s1,s2):\n",
    "   \n",
    "    sl = []\n",
    "    sl1 = []\n",
    "\n",
    "    for i in s1:\n",
    "        if i == \" \":\n",
    "            continue\n",
    "        sl.append(i)\n",
    "    #print(sl)    \n",
    "    #print(len(sl))\n",
    "\n",
    "    for i in s2:\n",
    "        if i == \" \":\n",
    "            continue\n",
    "        sl1.append(i)\n",
    "    #print(sl1)\n",
    "    #print(len(sl1))\n",
    "\n",
    "    for i in sl:\n",
    "        for j in sl1:\n",
    "            if i==j:\n",
    "                sl1.remove(j)\n",
    "    \n",
    "    if len(sl1) == 0:\n",
    "        print(\"This is anagram \")\n",
    "\n",
    "    else:\n",
    "        print(\"This is not anagram\")\n",
    "\n",
    "s1 = \"public relations kfgjdfkgkfo\"\n",
    "s2 = \"crap built on lies\"\n",
    "\n",
    "anagram(s1,s2)"
   ]
  },
  {
   "cell_type": "code",
   "execution_count": 44,
   "id": "d40cb1d0-792f-4dd9-89e7-f9a51e6fd4a6",
   "metadata": {},
   "outputs": [
    {
     "ename": "SyntaxError",
     "evalue": "incomplete input (1245593179.py, line 5)",
     "output_type": "error",
     "traceback": [
      "\u001b[0;36m  Cell \u001b[0;32mIn[44], line 5\u001b[0;36m\u001b[0m\n\u001b[0;31m    \u001b[0m\n\u001b[0m    ^\u001b[0m\n\u001b[0;31mSyntaxError\u001b[0m\u001b[0;31m:\u001b[0m incomplete input\n"
     ]
    }
   ],
   "source": [
    "\n",
    "class anagram(object):\n",
    "    \n",
    "    def __init__(self):\n",
    "        \n",
    "        "
   ]
  },
  {
   "cell_type": "code",
   "execution_count": 5,
   "id": "b1c09e36-fb18-473c-8877-8eff6c6fe145",
   "metadata": {},
   "outputs": [
    {
     "name": "stdout",
     "output_type": "stream",
     "text": [
      "['a', 'b', 'c', 'e', 'i', 'i', 'l', 'l', 'n', 'o', 'p', 'r', 's', 't', 'u']\n",
      "['a', 'b', 'c', 'e', 'i', 'i', 'l', 'l', 'n', 'o', 'p', 'r', 's', 't', 'u']\n"
     ]
    },
    {
     "data": {
      "text/plain": [
       "True"
      ]
     },
     "execution_count": 5,
     "metadata": {},
     "output_type": "execute_result"
    }
   ],
   "source": [
    "def anagram(s1,s2):\n",
    "    \n",
    "    s1 = s1.replace(' ','').lower()\n",
    "    s2 = s2.replace(' ','').lower()\n",
    "    \n",
    "    print(sorted(s1))\n",
    "    print(sorted(s2))\n",
    "    return sorted(s1) == sorted(s2)\n",
    "    \n",
    "anagram(\"public relations\",\"crap built on lies\")    "
   ]
  },
  {
   "cell_type": "code",
   "execution_count": 8,
   "id": "3ef3037b-e2cb-4b8c-953c-f270738aa3ef",
   "metadata": {},
   "outputs": [],
   "source": [
    "def anagram2(s1,s2):\n",
    "    s1 = s1.replace(' ','').lower()\n",
    "    s2 = s2.replace(' ','').lower()\n",
    "    \n",
    "    if len(s1) != len(s2):\n",
    "        return False\n",
    "    count = {}\n",
    "    \n",
    "    for letter in s1:\n",
    "        if letter in count :\n",
    "            count[letter] += 1\n",
    "            \n",
    "        else:\n",
    "            count[letter] = 1\n",
    "            \n",
    "    for letter in s2:\n",
    "        if letter in count :\n",
    "            count[letter] -= 1\n",
    "            \n",
    "        else:\n",
    "            count[letter] = 1 \n",
    "            \n",
    "    for k in count:\n",
    "        if count[k] != 0:\n",
    "            return False\n",
    "    return True\n"
   ]
  },
  {
   "cell_type": "code",
   "execution_count": 9,
   "id": "260862fc-5d06-4cf7-a415-5ecd650d887b",
   "metadata": {},
   "outputs": [
    {
     "data": {
      "text/plain": [
       "True"
      ]
     },
     "execution_count": 9,
     "metadata": {},
     "output_type": "execute_result"
    }
   ],
   "source": [
    "anagram2(\"public relations\",\"crap built on lies\")"
   ]
  },
  {
   "cell_type": "code",
   "execution_count": null,
   "id": "770b2b69-fcb5-4e69-b1b9-31f0bb9f893d",
   "metadata": {},
   "outputs": [],
   "source": []
  }
 ],
 "metadata": {
  "kernelspec": {
   "display_name": "Python 3 (ipykernel)",
   "language": "python",
   "name": "python3"
  },
  "language_info": {
   "codemirror_mode": {
    "name": "ipython",
    "version": 3
   },
   "file_extension": ".py",
   "mimetype": "text/x-python",
   "name": "python",
   "nbconvert_exporter": "python",
   "pygments_lexer": "ipython3",
   "version": "3.10.8"
  }
 },
 "nbformat": 4,
 "nbformat_minor": 5
}
