{
 "cells": [
  {
   "cell_type": "code",
   "execution_count": 3,
   "id": "322decd8-d075-4c86-816a-3cc82c265a94",
   "metadata": {},
   "outputs": [
    {
     "name": "stdout",
     "output_type": "stream",
     "text": [
      "length :   0; size in bytes:   56.\n",
      "length :   1; size in bytes:   88.\n",
      "length :   2; size in bytes:   88.\n",
      "length :   3; size in bytes:   88.\n",
      "length :   4; size in bytes:   88.\n",
      "length :   5; size in bytes:  120.\n",
      "length :   6; size in bytes:  120.\n",
      "length :   7; size in bytes:  120.\n",
      "length :   8; size in bytes:  120.\n",
      "length :   9; size in bytes:  184.\n",
      "length :  10; size in bytes:  184.\n",
      "length :  11; size in bytes:  184.\n",
      "length :  12; size in bytes:  184.\n",
      "length :  13; size in bytes:  184.\n",
      "length :  14; size in bytes:  184.\n",
      "length :  15; size in bytes:  184.\n",
      "length :  16; size in bytes:  184.\n",
      "length :  17; size in bytes:  248.\n",
      "length :  18; size in bytes:  248.\n",
      "length :  19; size in bytes:  248.\n",
      "length :  20; size in bytes:  248.\n",
      "length :  21; size in bytes:  248.\n",
      "length :  22; size in bytes:  248.\n",
      "length :  23; size in bytes:  248.\n",
      "length :  24; size in bytes:  248.\n",
      "length :  25; size in bytes:  312.\n",
      "length :  26; size in bytes:  312.\n",
      "length :  27; size in bytes:  312.\n",
      "length :  28; size in bytes:  312.\n",
      "length :  29; size in bytes:  312.\n",
      "length :  30; size in bytes:  312.\n",
      "length :  31; size in bytes:  312.\n",
      "length :  32; size in bytes:  312.\n",
      "length :  33; size in bytes:  376.\n",
      "length :  34; size in bytes:  376.\n",
      "length :  35; size in bytes:  376.\n",
      "length :  36; size in bytes:  376.\n",
      "length :  37; size in bytes:  376.\n",
      "length :  38; size in bytes:  376.\n",
      "length :  39; size in bytes:  376.\n",
      "length :  40; size in bytes:  376.\n",
      "length :  41; size in bytes:  472.\n",
      "length :  42; size in bytes:  472.\n",
      "length :  43; size in bytes:  472.\n",
      "length :  44; size in bytes:  472.\n",
      "length :  45; size in bytes:  472.\n",
      "length :  46; size in bytes:  472.\n",
      "length :  47; size in bytes:  472.\n",
      "length :  48; size in bytes:  472.\n",
      "length :  49; size in bytes:  472.\n"
     ]
    }
   ],
   "source": [
    "import sys\n",
    "\n",
    "n=10\n",
    "data = []\n",
    "for i in range(50):\n",
    "    a = len(data)\n",
    "    b = sys.getsizeof(data)\n",
    "    print(\"length : {0:3d}; size in bytes: {1:4d}.\".format(a,b))\n",
    "    \n",
    "    data.append(n)"
   ]
  },
  {
   "cell_type": "markdown",
   "id": "59f2c05c-b3c9-4fd5-bba3-72ae5af5ee78",
   "metadata": {},
   "source": [
    "Dynamic Array Implementation "
   ]
  },
  {
   "cell_type": "code",
   "execution_count": 5,
   "id": "fecdb3fc-20a9-4724-ab21-92e7410515f9",
   "metadata": {},
   "outputs": [],
   "source": [
    "class M(object):\n",
    "    def public(self):\n",
    "        print('use tab to see me!')\n",
    "    def _private(self):\n",
    "        print(\"you won't be able to tab me!\")"
   ]
  },
  {
   "cell_type": "code",
   "execution_count": 6,
   "id": "07e40311-97c5-4677-90a8-40df67472451",
   "metadata": {},
   "outputs": [],
   "source": [
    "m = M() "
   ]
  },
  {
   "cell_type": "code",
   "execution_count": 7,
   "id": "82311182-13c7-473b-b078-8657bcede1ec",
   "metadata": {},
   "outputs": [
    {
     "name": "stdout",
     "output_type": "stream",
     "text": [
      "use tab to see me!\n"
     ]
    }
   ],
   "source": [
    "m.public()"
   ]
  },
  {
   "cell_type": "code",
   "execution_count": 8,
   "id": "40e1ede6-87e5-4b58-a374-2fd2bed8c554",
   "metadata": {},
   "outputs": [
    {
     "name": "stdout",
     "output_type": "stream",
     "text": [
      "you won't be able to tab me!\n"
     ]
    }
   ],
   "source": [
    "m._private()"
   ]
  },
  {
   "cell_type": "code",
   "execution_count": 8,
   "id": "697ef63a-69a4-47da-9dbc-b9849eaa3c11",
   "metadata": {},
   "outputs": [],
   "source": [
    "import ctypes\n",
    "\n",
    "class DynamicArray(object):\n",
    "    \n",
    "    def __init__(self):\n",
    "        \n",
    "        self.n = 0\n",
    "        self.capacity = 1\n",
    "        self.A = self.make_array(self.capacity)\n",
    "        \n",
    "    def __len__(self):\n",
    "        return self.n\n",
    "    \n",
    "    def __getitem__(self,k):\n",
    "        \n",
    "        if not 0 <= k < self.n:\n",
    "            return IndexError('k is out of bounds!')\n",
    "        \n",
    "        return self.A[k]\n",
    "    \n",
    "    def append(self,ele):\n",
    "        if self.n == self.capacity:\n",
    "            self._resize(2*self.capacity)\n",
    "            \n",
    "        self.A[self.n] = ele\n",
    "        self.n  += 1\n",
    "        \n",
    "    def _resize(self,new_cap):\n",
    "        \n",
    "        B = self.make_array(new_cap)\n",
    "        \n",
    "        for k in range(self.n):\n",
    "            \n",
    "            B[k] = self.A[k]\n",
    "          \n",
    "        self.A = B\n",
    "        self.capacity = new_cap\n",
    "        \n",
    "      \n",
    "    def make_array(self,new_cap):\n",
    "        \n",
    "        return (new_cap * ctypes.py_object)()\n",
    "            \n",
    "        \n",
    "        "
   ]
  },
  {
   "cell_type": "code",
   "execution_count": 9,
   "id": "a15961f6-ccc5-42b0-b561-514a8c2386c9",
   "metadata": {},
   "outputs": [],
   "source": [
    "arr = DynamicArray()"
   ]
  },
  {
   "cell_type": "code",
   "execution_count": 10,
   "id": "bf191f71-4447-4cd1-83ca-d8af51ffab1c",
   "metadata": {},
   "outputs": [],
   "source": [
    "arr.append(1)"
   ]
  },
  {
   "cell_type": "code",
   "execution_count": 11,
   "id": "74d5ae57-ce69-45d9-9d35-41550e28fc45",
   "metadata": {},
   "outputs": [
    {
     "data": {
      "text/plain": [
       "1"
      ]
     },
     "execution_count": 11,
     "metadata": {},
     "output_type": "execute_result"
    }
   ],
   "source": [
    "len(arr)"
   ]
  },
  {
   "cell_type": "code",
   "execution_count": 12,
   "id": "28651530-2fe4-4dc9-87b9-04c106ee5cf7",
   "metadata": {},
   "outputs": [],
   "source": [
    "arr.append(2)"
   ]
  },
  {
   "cell_type": "code",
   "execution_count": 13,
   "id": "096d6d97-edbc-4258-a075-8b819582d355",
   "metadata": {},
   "outputs": [
    {
     "data": {
      "text/plain": [
       "2"
      ]
     },
     "execution_count": 13,
     "metadata": {},
     "output_type": "execute_result"
    }
   ],
   "source": [
    "len(arr)"
   ]
  },
  {
   "cell_type": "code",
   "execution_count": 14,
   "id": "939039e2-1b49-4adf-b838-c08b9a9d80d1",
   "metadata": {},
   "outputs": [
    {
     "data": {
      "text/plain": [
       "1"
      ]
     },
     "execution_count": 14,
     "metadata": {},
     "output_type": "execute_result"
    }
   ],
   "source": [
    "arr[0]"
   ]
  },
  {
   "cell_type": "code",
   "execution_count": 16,
   "id": "93b55bb3-a5f2-4790-8940-fc185a7ebdf9",
   "metadata": {},
   "outputs": [
    {
     "data": {
      "text/plain": [
       "2"
      ]
     },
     "execution_count": 16,
     "metadata": {},
     "output_type": "execute_result"
    }
   ],
   "source": [
    "arr[1]"
   ]
  },
  {
   "cell_type": "code",
   "execution_count": null,
   "id": "7c3546cc-d1cc-49c9-b415-011b2cf5a9c9",
   "metadata": {},
   "outputs": [],
   "source": []
  }
 ],
 "metadata": {
  "kernelspec": {
   "display_name": "Python 3 (ipykernel)",
   "language": "python",
   "name": "python3"
  },
  "language_info": {
   "codemirror_mode": {
    "name": "ipython",
    "version": 3
   },
   "file_extension": ".py",
   "mimetype": "text/x-python",
   "name": "python",
   "nbconvert_exporter": "python",
   "pygments_lexer": "ipython3",
   "version": "3.10.8"
  }
 },
 "nbformat": 4,
 "nbformat_minor": 5
}
