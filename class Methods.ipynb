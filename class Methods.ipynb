{
 "cells": [
  {
   "cell_type": "code",
   "execution_count": 4,
   "id": "047b8fc4-834e-4a60-8587-994c965e86df",
   "metadata": {},
   "outputs": [],
   "source": [
    "class pwskills:\n",
    "    def __init__(self,name,email):\n",
    "        self.name = name\n",
    "        self.email = email\n",
    "        \n",
    "    @classmethod\n",
    "    def details(cls,name,email):\n",
    "        return cls(name,email)\n",
    "    \n",
    "    def  student_details(self):\n",
    "        print(self.name,self.email)"
   ]
  },
  {
   "cell_type": "code",
   "execution_count": 5,
   "id": "6159f7cc-9984-405e-b079-6cfd98e32e6c",
   "metadata": {},
   "outputs": [],
   "source": [
    "pw1 = pwskills.details(\"aish\",\"aish@email.com\")"
   ]
  },
  {
   "cell_type": "code",
   "execution_count": 6,
   "id": "38521e8c-a971-4b91-90cb-1c734deb06a6",
   "metadata": {},
   "outputs": [
    {
     "data": {
      "text/plain": [
       "'aish'"
      ]
     },
     "execution_count": 6,
     "metadata": {},
     "output_type": "execute_result"
    }
   ],
   "source": [
    "pw1.name"
   ]
  },
  {
   "cell_type": "code",
   "execution_count": 7,
   "id": "173fb231-e96e-49aa-8c90-ac9b5f363849",
   "metadata": {},
   "outputs": [
    {
     "data": {
      "text/plain": [
       "'aish@email.com'"
      ]
     },
     "execution_count": 7,
     "metadata": {},
     "output_type": "execute_result"
    }
   ],
   "source": [
    "pw1.email"
   ]
  },
  {
   "cell_type": "code",
   "execution_count": 8,
   "id": "6cc87ded-b0c9-48e8-ad26-c5e0fee7f506",
   "metadata": {},
   "outputs": [
    {
     "name": "stdout",
     "output_type": "stream",
     "text": [
      "aish aish@email.com\n"
     ]
    }
   ],
   "source": [
    "pw1.student_details()"
   ]
  },
  {
   "cell_type": "code",
   "execution_count": 17,
   "id": "e6ced521-14c4-47c9-b041-4df2773cfbb9",
   "metadata": {},
   "outputs": [],
   "source": [
    "class pwskills2:\n",
    "    \n",
    "    mobile_num = 2346987654\n",
    "    \n",
    "    def __init__(self,name,email):\n",
    "        self.name = name\n",
    "        self.email = email\n",
    "    @classmethod   \n",
    "    def change_number(cls ,mobile):\n",
    "        pwskills2.mobile_num = mobile\n",
    "        \n",
    "    @classmethod\n",
    "    def details(cls,name,email):\n",
    "        return cls(name,email)\n",
    "    \n",
    "    def  student_details(self):\n",
    "        print(self.name,self.email,pwskills2.mobile_num)"
   ]
  },
  {
   "cell_type": "code",
   "execution_count": 18,
   "id": "92db9ad7-6fb3-4d89-b652-cb6ed1d1270b",
   "metadata": {},
   "outputs": [
    {
     "data": {
      "text/plain": [
       "2346987654"
      ]
     },
     "execution_count": 18,
     "metadata": {},
     "output_type": "execute_result"
    }
   ],
   "source": [
    "pwskills2.mobile_num"
   ]
  },
  {
   "cell_type": "code",
   "execution_count": 19,
   "id": "262baaf8-2122-4c96-ba35-b6707473c234",
   "metadata": {},
   "outputs": [],
   "source": [
    "pwskills2.change_number(987534567)"
   ]
  },
  {
   "cell_type": "code",
   "execution_count": 20,
   "id": "df12cd72-3ca5-4653-8f4f-700adb9ead1e",
   "metadata": {},
   "outputs": [
    {
     "data": {
      "text/plain": [
       "987534567"
      ]
     },
     "execution_count": 20,
     "metadata": {},
     "output_type": "execute_result"
    }
   ],
   "source": [
    "pwskills2.mobile_num"
   ]
  },
  {
   "cell_type": "code",
   "execution_count": 21,
   "id": "d26a9880-591f-4ecd-a683-8cd4f4f74686",
   "metadata": {},
   "outputs": [],
   "source": [
    "pw_obj = pwskills2(\"aish\",\"aish@gmail.com\")"
   ]
  },
  {
   "cell_type": "code",
   "execution_count": 22,
   "id": "e449abc2-a1db-43f0-8b4f-4e8e1fe8b8fa",
   "metadata": {},
   "outputs": [
    {
     "name": "stdout",
     "output_type": "stream",
     "text": [
      "aish aish@gmail.com 987534567\n"
     ]
    }
   ],
   "source": [
    "pw_obj.student_details()"
   ]
  },
  {
   "cell_type": "code",
   "execution_count": 23,
   "id": "009b6f46-e6f8-46e4-85b9-b3f10f31c3ad",
   "metadata": {},
   "outputs": [],
   "source": [
    "class pwskills3 :\n",
    "    \n",
    "    mobile_num = 2346987654\n",
    "    \n",
    "    def __init__(self,name,email):\n",
    "        self.name = name\n",
    "        self.email = email\n",
    "    @classmethod   \n",
    "    def change_number(cls ,mobile):\n",
    "        pwskills2.mobile_num = mobile\n",
    "        \n",
    "    @classmethod\n",
    "    def details(cls,name,email):\n",
    "        return cls(name,email)\n",
    "    \n",
    "    def  student_details(self):\n",
    "        print(self.name,self.email,pwskills2.mobile_num)"
   ]
  },
  {
   "cell_type": "code",
   "execution_count": 24,
   "id": "c4d54ddb-a2f8-47b5-aa80-6a99fcf280f3",
   "metadata": {},
   "outputs": [],
   "source": [
    "def course_details(cls,course_name) :\n",
    "    print(\"course name is \",course_name)"
   ]
  },
  {
   "cell_type": "code",
   "execution_count": 25,
   "id": "56e47df0-afa6-4b25-aeec-175f830d22ff",
   "metadata": {},
   "outputs": [],
   "source": [
    "pwskills3.course_details = classmethod(course_details)"
   ]
  },
  {
   "cell_type": "code",
   "execution_count": 28,
   "id": "08363648-a46e-4e00-9941-2583ae8a8834",
   "metadata": {},
   "outputs": [
    {
     "name": "stdout",
     "output_type": "stream",
     "text": [
      "course name is  data science\n"
     ]
    }
   ],
   "source": [
    "pwskills3.course_details(\"data science\")"
   ]
  },
  {
   "cell_type": "code",
   "execution_count": 1,
   "id": "9b15845e-74d1-40c4-9507-96ce59ab0b87",
   "metadata": {},
   "outputs": [],
   "source": [
    "class pwskills4 :\n",
    "    \n",
    "    mobile_num = 2346987654\n",
    "    \n",
    "    def __init__(self,name,email):\n",
    "        self.name = name\n",
    "        self.email = email\n",
    "    @classmethod   \n",
    "    def change_number(cls ,mobile):\n",
    "        pwskills2.mobile_num = mobile\n",
    "        \n",
    "    @classmethod\n",
    "    def details(cls,name,email):\n",
    "        return cls(name,email)\n",
    "    \n",
    "    def  student_details(self):\n",
    "        print(self.name,self.email,pwskills2.mobile_num)"
   ]
  },
  {
   "cell_type": "code",
   "execution_count": 2,
   "id": "2dcac618-0f9e-4851-9cc1-36d5d408683a",
   "metadata": {},
   "outputs": [],
   "source": [
    "del pwskills4.change_number"
   ]
  },
  {
   "cell_type": "code",
   "execution_count": 3,
   "id": "b643bc7a-26d5-4b0e-b7b4-6450251b6f8d",
   "metadata": {},
   "outputs": [
    {
     "ename": "AttributeError",
     "evalue": "type object 'pwskills4' has no attribute 'change_number'",
     "output_type": "error",
     "traceback": [
      "\u001b[0;31m---------------------------------------------------------------------------\u001b[0m",
      "\u001b[0;31mAttributeError\u001b[0m                            Traceback (most recent call last)",
      "Cell \u001b[0;32mIn[3], line 1\u001b[0m\n\u001b[0;32m----> 1\u001b[0m \u001b[43mpwskills4\u001b[49m\u001b[38;5;241;43m.\u001b[39;49m\u001b[43mchange_number\u001b[49m(\u001b[38;5;241m123456712\u001b[39m)\n",
      "\u001b[0;31mAttributeError\u001b[0m: type object 'pwskills4' has no attribute 'change_number'"
     ]
    }
   ],
   "source": [
    "pwskills4.change_number(123456712)"
   ]
  },
  {
   "cell_type": "code",
   "execution_count": 4,
   "id": "bb536498-7652-4cb0-8627-9a1283c76cfb",
   "metadata": {},
   "outputs": [],
   "source": [
    "delattr(pwskills4,\"details\")"
   ]
  },
  {
   "cell_type": "code",
   "execution_count": 6,
   "id": "646146e8-274f-4b53-bae1-963f7d85c1a5",
   "metadata": {},
   "outputs": [
    {
     "ename": "AttributeError",
     "evalue": "type object 'pwskills4' has no attribute 'details'",
     "output_type": "error",
     "traceback": [
      "\u001b[0;31m---------------------------------------------------------------------------\u001b[0m",
      "\u001b[0;31mAttributeError\u001b[0m                            Traceback (most recent call last)",
      "Cell \u001b[0;32mIn[6], line 1\u001b[0m\n\u001b[0;32m----> 1\u001b[0m \u001b[43mpwskills4\u001b[49m\u001b[38;5;241;43m.\u001b[39;49m\u001b[43mdetails\u001b[49m(\u001b[38;5;124m\"\u001b[39m\u001b[38;5;124maish\u001b[39m\u001b[38;5;124m\"\u001b[39m,\u001b[38;5;124m\"\u001b[39m\u001b[38;5;124maish@gmail.com\u001b[39m\u001b[38;5;124m\"\u001b[39m)\n",
      "\u001b[0;31mAttributeError\u001b[0m: type object 'pwskills4' has no attribute 'details'"
     ]
    }
   ],
   "source": [
    "pwskills4.details(\"aish\",\"aish@gmail.com\")"
   ]
  },
  {
   "cell_type": "code",
   "execution_count": null,
   "id": "d3db2faa-789f-4eb4-a002-8cb3b6300d8d",
   "metadata": {},
   "outputs": [],
   "source": []
  }
 ],
 "metadata": {
  "kernelspec": {
   "display_name": "Python 3 (ipykernel)",
   "language": "python",
   "name": "python3"
  },
  "language_info": {
   "codemirror_mode": {
    "name": "ipython",
    "version": 3
   },
   "file_extension": ".py",
   "mimetype": "text/x-python",
   "name": "python",
   "nbconvert_exporter": "python",
   "pygments_lexer": "ipython3",
   "version": "3.10.8"
  }
 },
 "nbformat": 4,
 "nbformat_minor": 5
}
