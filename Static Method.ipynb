{
 "cells": [
  {
   "cell_type": "code",
   "execution_count": 4,
   "id": "6972c04e-31ae-44c5-a2f9-db91958acdea",
   "metadata": {},
   "outputs": [],
   "source": [
    "class pwskills1:\n",
    "    \n",
    "    def student_details(self,name,mail_id,number):\n",
    "        print(name,mail_id,number)\n",
    "       \n",
    "    @staticmethod\n",
    "    def mentor_class(list_mentor):\n",
    "        print(list_mentor)\n",
    "      \n",
    "    def mentor(self,mentor_list):\n",
    "        print(mentor_list)"
   ]
  },
  {
   "cell_type": "code",
   "execution_count": 7,
   "id": "308cdf80-923c-4b4d-af8b-28c0fde87c6d",
   "metadata": {},
   "outputs": [
    {
     "name": "stdout",
     "output_type": "stream",
     "text": [
      "['aish', 'khedkar']\n"
     ]
    }
   ],
   "source": [
    "pwskills1.mentor_class([\"aish\",\"khedkar\"])"
   ]
  },
  {
   "cell_type": "code",
   "execution_count": 8,
   "id": "359b9fc1-24ac-43a6-9424-53a45415ffba",
   "metadata": {},
   "outputs": [],
   "source": [
    "st1 = pwskills1()"
   ]
  },
  {
   "cell_type": "code",
   "execution_count": 10,
   "id": "dd62de57-45cb-4a8e-a4e7-c821a30fcf40",
   "metadata": {},
   "outputs": [],
   "source": [
    "st2 = pwskills1()"
   ]
  },
  {
   "cell_type": "code",
   "execution_count": 12,
   "id": "f9297a0e-0705-4d89-8db3-e1ae2cad2a3d",
   "metadata": {},
   "outputs": [
    {
     "data": {
      "text/plain": [
       "<function __main__.pwskills1.mentor_class(list_mentor)>"
      ]
     },
     "execution_count": 12,
     "metadata": {},
     "output_type": "execute_result"
    }
   ],
   "source": [
    "st1.mentor_class"
   ]
  },
  {
   "cell_type": "code",
   "execution_count": 6,
   "id": "62134e21-e67e-4bf6-87db-fbdc7df04704",
   "metadata": {},
   "outputs": [],
   "source": [
    "class pwskills2:\n",
    "    \n",
    "    def student_details(self,name,mail_id,number):\n",
    "        print(name,mail_id,number)\n",
    "      \n",
    "    @staticmethod\n",
    "    def mentor_mail_id(mail_id_mentor):\n",
    "        print(mail_id_mentor)\n",
    "        \n",
    "        \n",
    "    @staticmethod\n",
    "    def mentor_class(list_mentor):\n",
    "        pwskills2.mentor_mail_id([\"aish@gmail.com\",\"aish\"])\n",
    "        print(list_mentor)\n",
    "        \n",
    "    @classmethod\n",
    "    def class_name(cls):\n",
    "        cls.mentor_class([\"aish\"])\n",
    "      \n",
    "    def mentor(self,mentor_list):\n",
    "        print(mentor_list)\n",
    "        self.mentor_class([\"aish\"])"
   ]
  },
  {
   "cell_type": "code",
   "execution_count": 7,
   "id": "2d62faba-a58c-4dcb-b123-886cfa2ec0bc",
   "metadata": {},
   "outputs": [
    {
     "name": "stdout",
     "output_type": "stream",
     "text": [
      "['aish@gmail.com', 'aish']\n",
      "['aish']\n"
     ]
    }
   ],
   "source": [
    "pwskills2.class_name()"
   ]
  },
  {
   "cell_type": "code",
   "execution_count": 8,
   "id": "8a19226b-ce3f-406d-822e-407d3499a527",
   "metadata": {},
   "outputs": [],
   "source": [
    "pw = pwskills2()"
   ]
  },
  {
   "cell_type": "code",
   "execution_count": 9,
   "id": "80253378-6349-49b9-80bf-019870ae60d5",
   "metadata": {},
   "outputs": [
    {
     "name": "stdout",
     "output_type": "stream",
     "text": [
      "['khedkar']\n",
      "['aish@gmail.com', 'aish']\n",
      "['aish']\n"
     ]
    }
   ],
   "source": [
    "pw.mentor([\"khedkar\"])"
   ]
  },
  {
   "cell_type": "code",
   "execution_count": null,
   "id": "ee3f4017-f063-4132-9313-2a4898bed29c",
   "metadata": {},
   "outputs": [],
   "source": []
  }
 ],
 "metadata": {
  "kernelspec": {
   "display_name": "Python 3 (ipykernel)",
   "language": "python",
   "name": "python3"
  },
  "language_info": {
   "codemirror_mode": {
    "name": "ipython",
    "version": 3
   },
   "file_extension": ".py",
   "mimetype": "text/x-python",
   "name": "python",
   "nbconvert_exporter": "python",
   "pygments_lexer": "ipython3",
   "version": "3.10.8"
  }
 },
 "nbformat": 4,
 "nbformat_minor": 5
}
