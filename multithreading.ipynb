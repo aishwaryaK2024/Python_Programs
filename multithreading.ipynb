{
 "cells": [
  {
   "cell_type": "code",
   "execution_count": 2,
   "id": "c803e43c-5942-4f49-9c2a-8613dc16d7a4",
   "metadata": {},
   "outputs": [],
   "source": [
    "import threading"
   ]
  },
  {
   "cell_type": "code",
   "execution_count": 3,
   "id": "21145b94-1497-4c2a-a9c5-e638d0dc22d6",
   "metadata": {},
   "outputs": [],
   "source": [
    "def test(id):\n",
    "    print(\"prog start %d\",id)"
   ]
  },
  {
   "cell_type": "code",
   "execution_count": 4,
   "id": "40a8a643-7f95-40c7-b9c1-93ddeebfeb78",
   "metadata": {},
   "outputs": [
    {
     "name": "stdout",
     "output_type": "stream",
     "text": [
      "prog start %d 90\n"
     ]
    }
   ],
   "source": [
    "test(90)"
   ]
  },
  {
   "cell_type": "code",
   "execution_count": 5,
   "id": "5d74f387-364b-41c8-9c58-5b46b3a240d9",
   "metadata": {},
   "outputs": [],
   "source": [
    "thread = [threading.Thread(target=test , args=(i,) )for i in range(10)]"
   ]
  },
  {
   "cell_type": "code",
   "execution_count": 6,
   "id": "ce5b5c0a-4c9d-4070-98bb-9e357fd778d9",
   "metadata": {},
   "outputs": [
    {
     "name": "stdout",
     "output_type": "stream",
     "text": [
      "prog start %d 0\n",
      "prog start %d 1\n",
      "prog start %d 2\n",
      "prog start %d 3\n",
      "prog start %d 4\n",
      "prog start %d 5\n",
      "prog start %d 6\n",
      "prog start %d 7\n",
      "prog start %d 8\n",
      "prog start %d 9\n"
     ]
    }
   ],
   "source": [
    "for t in thread:\n",
    "    t.start()"
   ]
  },
  {
   "cell_type": "code",
   "execution_count": 7,
   "id": "ffeec5be-043c-4988-ac27-65f842f58ed3",
   "metadata": {},
   "outputs": [],
   "source": [
    "import threading\n",
    "import urllib.request\n",
    "\n",
    "def file_download(url,filename):\n",
    "    urllib.request.urlretrieve"
   ]
  },
  {
   "cell_type": "code",
   "execution_count": 8,
   "id": "20635e0b-9bc4-43fe-9006-bb2db85f791e",
   "metadata": {},
   "outputs": [],
   "source": [
    "import threading\n",
    "import time"
   ]
  },
  {
   "cell_type": "code",
   "execution_count": 19,
   "id": "b721cab6-552d-4f65-9694-8ac2c5a1c483",
   "metadata": {},
   "outputs": [
    {
     "name": "stdout",
     "output_type": "stream",
     "text": [
      "test1 0 printing test1 6\n",
      "test1 1 printing test1 6\n",
      "test1 2 printing test1 6\n"
     ]
    }
   ],
   "source": [
    "def test1(id):\n",
    "    for i in range(10):\n",
    "        print(\"test1 %d printing test1 %d\"%(id,i))\n",
    "        time.sleep(3)"
   ]
  },
  {
   "cell_type": "code",
   "execution_count": 16,
   "id": "6a3bd30b-b11b-4bbd-84f0-e002e5821d94",
   "metadata": {},
   "outputs": [
    {
     "name": "stdout",
     "output_type": "stream",
     "text": [
      "test1 2 printing test1 0\n",
      "test1 2 printing test1 1\n",
      "test1 2 printing test1 2\n",
      "test1 2 printing test1 3\n",
      "test1 2 printing test1 4\n",
      "test1 2 printing test1 5\n",
      "test1 2 printing test1 6\n",
      "test1 2 printing test1 7\n",
      "test1 2 printing test1 8\n",
      "test1 2 printing test1 9\n"
     ]
    }
   ],
   "source": [
    "test1(2)"
   ]
  },
  {
   "cell_type": "code",
   "execution_count": 20,
   "id": "a7ec7fc0-1d61-4535-8d6a-d4ecf132a507",
   "metadata": {},
   "outputs": [],
   "source": [
    "thread = [threading.Thread(target=test1,args=(i,))for i in range(6)]"
   ]
  },
  {
   "cell_type": "code",
   "execution_count": 21,
   "id": "3fe42e3f-f64e-40c5-8b74-0b8b25bf9b98",
   "metadata": {},
   "outputs": [
    {
     "name": "stdout",
     "output_type": "stream",
     "text": [
      "test1 0 printing test1 0\n",
      "test1 1 printing test1 0\n",
      "test1 2 printing test1 0\n",
      "test1 3 printing test1 0\n",
      "test1 4 printing test1 0\n",
      "test1 5 printing test1 0\n",
      "test1 0 printing test1 7test1 1 printing test1 7\n",
      "\n",
      "test1 2 printing test1 7\n",
      "test1 3 printing test1 1test1 2 printing test1 1\n",
      "\n",
      "test1 4 printing test1 1\n",
      "test1 0 printing test1 1\n",
      "test1 5 printing test1 1\n",
      "test1 1 printing test1 1\n",
      "test1 0 printing test1 8test1 1 printing test1 8\n",
      "\n",
      "test1 2 printing test1 8\n",
      "test1 3 printing test1 2\n",
      "test1 5 printing test1 2\n",
      "test1 2 printing test1 2\n",
      "test1 0 printing test1 2\n",
      "test1 4 printing test1 2\n",
      "test1 1 printing test1 2\n",
      "test1 3 printing test1 3\n",
      "test1 5 printing test1 3\n",
      "test1 2 printing test1 3\n",
      "test1 0 printing test1 3\n",
      "test1 4 printing test1 3\n",
      "test1 1 printing test1 3\n",
      "test1 0 printing test1 9\n",
      "test1 1 printing test1 9\n",
      "test1 2 printing test1 9\n",
      "test1 3 printing test1 4\n",
      "test1 2 printing test1 4\n",
      "test1 5 printing test1 4\n",
      "test1 4 printing test1 4\n",
      "test1 0 printing test1 4\n",
      "test1 1 printing test1 4\n",
      "test1 3 printing test1 5test1 2 printing test1 5\n",
      "\n",
      "test1 5 printing test1 5\n",
      "test1 4 printing test1 5\n",
      "test1 1 printing test1 5\n",
      "test1 0 printing test1 5\n",
      "test1 2 printing test1 6\n",
      "test1 3 printing test1 6\n",
      "test1 5 printing test1 6\n",
      "test1 4 printing test1 6\n",
      "test1 1 printing test1 6\n",
      "test1 0 printing test1 6\n",
      "test1 2 printing test1 7\n",
      "test1 3 printing test1 7\n",
      "test1 5 printing test1 7\n",
      "test1 1 printing test1 7\n",
      "test1 4 printing test1 7\n",
      "test1 0 printing test1 7\n",
      "test1 2 printing test1 8\n",
      "test1 3 printing test1 8\n",
      "test1 5 printing test1 8\n",
      "test1 1 printing test1 8\n",
      "test1 4 printing test1 8\n",
      "test1 0 printing test1 8\n",
      "test1 2 printing test1 9\n",
      "test1 3 printing test1 9\n",
      "test1 1 printing test1 9\n",
      "test1 5 printing test1 9\n",
      "test1 4 printing test1 9\n",
      "test1 0 printing test1 9\n"
     ]
    }
   ],
   "source": [
    "for t in thread:\n",
    "    t.start()"
   ]
  },
  {
   "cell_type": "code",
   "execution_count": 1,
   "id": "337769a6-2f84-4359-8698-ea7d47457920",
   "metadata": {},
   "outputs": [],
   "source": [
    "import threading"
   ]
  },
  {
   "cell_type": "code",
   "execution_count": 10,
   "id": "1afd4451-5c37-4534-aeb8-9dec0a85686a",
   "metadata": {},
   "outputs": [
    {
     "name": "stdout",
     "output_type": "stream",
     "text": [
      "ttest2 is 0 has increased the shared variable by 1\n",
      "ttest2 is 1 has increased the shared variable by 2\n",
      "ttest2 is 2 has increased the shared variable by 3\n"
     ]
    }
   ],
   "source": [
    "shared_var = 0\n",
    "lock_var = threading.Lock()\n",
    "def test2(id):\n",
    "    global shared_var\n",
    "    with lock_var:\n",
    "        shared_var = shared_var + 1\n",
    "        print(\"ttest2 is %d has increased the shared variable by %d\"%(id,shared_var))\n",
    "        \n",
    "ther3 = [threading.Thread(target=test2,args = (i,)) for i in range(3)]\n",
    "for t in ther3:\n",
    "    t.start()"
   ]
  },
  {
   "cell_type": "code",
   "execution_count": null,
   "id": "46e0912f-796a-4bb7-b4f7-fc7009bf60fe",
   "metadata": {},
   "outputs": [],
   "source": []
  }
 ],
 "metadata": {
  "kernelspec": {
   "display_name": "Python 3 (ipykernel)",
   "language": "python",
   "name": "python3"
  },
  "language_info": {
   "codemirror_mode": {
    "name": "ipython",
    "version": 3
   },
   "file_extension": ".py",
   "mimetype": "text/x-python",
   "name": "python",
   "nbconvert_exporter": "python",
   "pygments_lexer": "ipython3",
   "version": "3.10.8"
  }
 },
 "nbformat": 4,
 "nbformat_minor": 5
}
