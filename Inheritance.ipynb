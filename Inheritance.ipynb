{
 "cells": [
  {
   "cell_type": "code",
   "execution_count": 5,
   "id": "c1a81279-401b-4ff6-bccb-62edd0a787b7",
   "metadata": {},
   "outputs": [],
   "source": [
    "class test():\n",
    "    \n",
    "    def test_meth(self):\n",
    "        return \"this is my first class\""
   ]
  },
  {
   "cell_type": "code",
   "execution_count": 6,
   "id": "5d7b76b7-3c36-45e2-8aa5-727bb24b6b26",
   "metadata": {},
   "outputs": [],
   "source": [
    "class child_test(test):\n",
    "    pass"
   ]
  },
  {
   "cell_type": "code",
   "execution_count": 7,
   "id": "c7fcdb2a-6c0e-404f-a4e6-322f66878d82",
   "metadata": {},
   "outputs": [],
   "source": [
    "child_test_obj = child_test()"
   ]
  },
  {
   "cell_type": "code",
   "execution_count": 8,
   "id": "915b6d65-3682-4fe4-91c3-d69c05e23864",
   "metadata": {},
   "outputs": [
    {
     "data": {
      "text/plain": [
       "'this is my first class'"
      ]
     },
     "execution_count": 8,
     "metadata": {},
     "output_type": "execute_result"
    }
   ],
   "source": [
    "child_test_obj.test_meth()"
   ]
  },
  {
   "cell_type": "code",
   "execution_count": 11,
   "id": "be499daa-88d7-4194-ad15-0dedcedd2019",
   "metadata": {},
   "outputs": [],
   "source": [
    "#multi level inheritance\n",
    "class class1:\n",
    "    \n",
    "    def test_class1(self):\n",
    "        return \"this is meth from class1\""
   ]
  },
  {
   "cell_type": "code",
   "execution_count": 12,
   "id": "fb6b13ed-d18b-4feb-9305-28101e256289",
   "metadata": {},
   "outputs": [],
   "source": [
    "class class2(class1):\n",
    "    \n",
    "    def test_class2(self):\n",
    "        return \"this is meth from class2\""
   ]
  },
  {
   "cell_type": "code",
   "execution_count": 13,
   "id": "c630adef-464f-4db5-80a2-3834e33ebbbb",
   "metadata": {},
   "outputs": [],
   "source": [
    "class class3(class2):\n",
    "    \n",
    "    def test_class3(self):\n",
    "        return \"this is meth from class3\""
   ]
  },
  {
   "cell_type": "code",
   "execution_count": 14,
   "id": "8bb226a7-8984-40c2-9801-9f6669f12d9c",
   "metadata": {},
   "outputs": [],
   "source": [
    "c = class3()"
   ]
  },
  {
   "cell_type": "code",
   "execution_count": 15,
   "id": "e1186c61-fb52-4aa3-bc2c-70bf5a7bcf50",
   "metadata": {},
   "outputs": [
    {
     "data": {
      "text/plain": [
       "'this is meth from class1'"
      ]
     },
     "execution_count": 15,
     "metadata": {},
     "output_type": "execute_result"
    }
   ],
   "source": [
    "c.test_class1()"
   ]
  },
  {
   "cell_type": "code",
   "execution_count": 16,
   "id": "805eaa31-a8bb-4889-ac60-9d6ff5a60a1a",
   "metadata": {},
   "outputs": [
    {
     "data": {
      "text/plain": [
       "'this is meth from class2'"
      ]
     },
     "execution_count": 16,
     "metadata": {},
     "output_type": "execute_result"
    }
   ],
   "source": [
    "c.test_class2()"
   ]
  },
  {
   "cell_type": "code",
   "execution_count": 17,
   "id": "446629b5-4953-4923-b78d-a133e6b973bc",
   "metadata": {},
   "outputs": [
    {
     "data": {
      "text/plain": [
       "'this is meth from class3'"
      ]
     },
     "execution_count": 17,
     "metadata": {},
     "output_type": "execute_result"
    }
   ],
   "source": [
    "c.test_class3()"
   ]
  },
  {
   "cell_type": "code",
   "execution_count": 19,
   "id": "9df84e4a-7173-4a1c-9fb8-398ba3cdbf98",
   "metadata": {},
   "outputs": [],
   "source": [
    "class class_1():\n",
    "    \n",
    "    def test_class1(self):\n",
    "        return \"this is class1 \" "
   ]
  },
  {
   "cell_type": "code",
   "execution_count": 22,
   "id": "8514ebb5-bcde-41ce-8688-473a6cbf8fd2",
   "metadata": {},
   "outputs": [],
   "source": [
    "class class_2():\n",
    "    \n",
    "    def test_class2(self):\n",
    "        return \"this is a class2\""
   ]
  },
  {
   "cell_type": "code",
   "execution_count": 23,
   "id": "941dd2a2-44b6-4969-a8c4-0d4406bcf9de",
   "metadata": {},
   "outputs": [],
   "source": [
    "class class_3(class_1,class_2):\n",
    "    pass"
   ]
  },
  {
   "cell_type": "code",
   "execution_count": 24,
   "id": "9b341546-5f46-4172-a7bf-c8cbb379d352",
   "metadata": {},
   "outputs": [],
   "source": [
    "obj_class3 = class_3()"
   ]
  },
  {
   "cell_type": "code",
   "execution_count": 25,
   "id": "656b948c-2293-4114-bc6d-ed517ac37dc2",
   "metadata": {},
   "outputs": [
    {
     "data": {
      "text/plain": [
       "'this is class1 '"
      ]
     },
     "execution_count": 25,
     "metadata": {},
     "output_type": "execute_result"
    }
   ],
   "source": [
    "obj_class3.test_class1()"
   ]
  },
  {
   "cell_type": "code",
   "execution_count": 27,
   "id": "289d14a2-6b2e-4848-8644-09f2048b311f",
   "metadata": {},
   "outputs": [
    {
     "data": {
      "text/plain": [
       "'this is a class2'"
      ]
     },
     "execution_count": 27,
     "metadata": {},
     "output_type": "execute_result"
    }
   ],
   "source": [
    "obj_class3.test_class2()"
   ]
  },
  {
   "cell_type": "code",
   "execution_count": null,
   "id": "332488f3-785d-4c8a-9c4b-96fe14749bbb",
   "metadata": {},
   "outputs": [],
   "source": []
  }
 ],
 "metadata": {
  "kernelspec": {
   "display_name": "Python 3 (ipykernel)",
   "language": "python",
   "name": "python3"
  },
  "language_info": {
   "codemirror_mode": {
    "name": "ipython",
    "version": 3
   },
   "file_extension": ".py",
   "mimetype": "text/x-python",
   "name": "python",
   "nbconvert_exporter": "python",
   "pygments_lexer": "ipython3",
   "version": "3.10.8"
  }
 },
 "nbformat": 4,
 "nbformat_minor": 5
}
